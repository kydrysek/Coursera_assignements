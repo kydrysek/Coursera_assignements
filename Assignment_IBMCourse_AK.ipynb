{
 "cells": [
  {
   "cell_type": "markdown",
   "id": "5b011a3a-95bd-41c0-b19d-8ed40ff38160",
   "metadata": {},
   "source": [
    "# My Jupyter Notebook on IBM Watson Studio"
   ]
  },
  {
   "cell_type": "markdown",
   "id": "2d803488-89da-4a3a-a398-3ad3d3543bce",
   "metadata": {},
   "source": [
    "__Aleksandra Kaminska__ <br>\n",
    "Data Scientist"
   ]
  },
  {
   "cell_type": "markdown",
   "id": "d92d01b9-3d8b-4239-a751-1abcc24ddc0e",
   "metadata": {},
   "source": [
    "_I am interested in Data Science because I think this is one of the fastest developing domains in Computer Science. Future-proofing my careers requires increasing my skills in that area. It is also a very fascinating topic in itself._  "
   ]
  },
  {
   "cell_type": "markdown",
   "id": "bb29cc08-eda0-4964-a474-a8e1c385840d",
   "metadata": {},
   "source": [
    "### Code below prints a result of (an arbitrary) addition  by creating a variable and evaluating its value within print function using an f-string literal syntax."
   ]
  },
  {
   "cell_type": "code",
   "execution_count": 8,
   "id": "b9a50a8c-bdbb-4c00-a47a-5ea1a724ba32",
   "metadata": {},
   "outputs": [
    {
     "name": "stdout",
     "output_type": "stream",
     "text": [
      "2 + 3 = 5\n"
     ]
    }
   ],
   "source": [
    "sum=2+3\n",
    "print(f\"2 + 3 = {cell_number}\")"
   ]
  },
  {
   "cell_type": "markdown",
   "id": "0bf55ecf-7b60-4706-a3d5-02f943409e87",
   "metadata": {
    "tags": []
   },
   "source": [
    "__This cell showcases how to do some basic markdown formatting. See examples below__ <br>\n",
    "<br>\n",
    "<u>Horizontal line:</u> <br>\n",
    "***\n",
    "<br>\n",
    "<u>Table:</u> \n",
    "\n",
    "|header 1|header 2|\n",
    "|---|---|\n",
    "||cell 2|\n",
    "|cell 3||\n",
    "|cell 5|cell 6|<br>\n",
    "\n",
    "<u>Strikehtrough text:</u>  ~~this has been formatted with strike-through~~\n",
    "\n",
    "<u>Bulleted list:</u>\n",
    "- entry 1\n",
    "- entry 2\n",
    "    - sub-entry 2\n",
    "\n",
    "<u>Numbered list:</u> \n",
    "1. another antry 1\n",
    "1. another entry 2\n",
    "\n",
    "\n",
    "<u>Hyperlink:</u> __[Coursera website](http://www.coursera.org/)__\n",
    "\n",
    "<u>Blockquotes:</u> \n",
    "> This is a blockquote\n",
    "<blockquote>This is also a blockquote</blockquote>\n",
    "\n",
    "<u>Syntax highlighting</u>\n",
    "```Python\n",
    "str = \"This is block level code\"\n",
    "print(str)\n",
    "```"
   ]
  }
 ],
 "metadata": {
  "kernelspec": {
   "display_name": "Python",
   "language": "python",
   "name": "conda-env-python-py"
  },
  "language_info": {
   "codemirror_mode": {
    "name": "ipython",
    "version": 3
   },
   "file_extension": ".py",
   "mimetype": "text/x-python",
   "name": "python",
   "nbconvert_exporter": "python",
   "pygments_lexer": "ipython3",
   "version": "3.7.12"
  }
 },
 "nbformat": 4,
 "nbformat_minor": 5
}
